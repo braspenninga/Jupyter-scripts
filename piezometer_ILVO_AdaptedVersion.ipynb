{
 "cells": [
  {
   "cell_type": "markdown",
   "metadata": {},
   "source": [
    "# Read and process groundwater data ILVO Field"
   ]
  },
  {
   "cell_type": "markdown",
   "metadata": {},
   "source": [
    "Load essential Python modules"
   ]
  },
  {
   "cell_type": "code",
   "execution_count": 29,
   "metadata": {},
   "outputs": [],
   "source": [
    "import pandas as pd\n",
    "import xlrd\n",
    "import os\n",
    "import numpy as np\n",
    "import glob\n",
    "import matplotlib.pyplot as plt\n",
    "#from pandasql import sqldf\n",
    "import datetime\n",
    "import csv\n",
    "import pdb\n",
    "from tqdm.notebook import tqdm\n",
    "from matplotlib.ticker import MultipleLocator\n",
    "from matplotlib.ticker import FuncFormatter\n",
    "def minor_formatter(x, ind):\n",
    "    # only format if we don't overlap with a major tick\n",
    "    if np.mod(x, 1) < .1:\n",
    "        return ''\n",
    "    return '{:.1f}'.format(np.mod(x, 1))\n",
    "def alternate_formatter(x, ind):\n",
    "    rm = np.mod(x, 1)\n",
    "    if np.abs(rm) < .1:\n",
    "        return '{:d}'.format(int(x))\n",
    "    return '{:.1f}'.format(rm)\n",
    "%matplotlib ipympl\n",
    "\n",
    "#!pip install traces"
   ]
  },
  {
   "cell_type": "markdown",
   "metadata": {},
   "source": [
    "### Read Climate Data  (www.dacom.nl)"
   ]
  },
  {
   "cell_type": "code",
   "execution_count": 30,
   "metadata": {},
   "outputs": [
    {
     "name": "stdout",
     "output_type": "stream",
     "text": [
      "           date      time  air_temperature  rel_humidity  precipitation  \\\n",
      "0    2022-05-17  12:00 AM            15.57         90.16            0.0   \n",
      "1    2022-05-17   1:00 AM            15.20         95.71            0.0   \n",
      "2    2022-05-17   2:00 AM            15.11         97.59            0.0   \n",
      "3    2022-05-17   3:00 AM            14.91         92.53            0.0   \n",
      "4    2022-05-17   4:00 AM            14.72        100.00            0.0   \n",
      "...         ...       ...              ...           ...            ...   \n",
      "5218 2022-12-20   9:00 AM            10.36        100.00            1.4   \n",
      "5219 2022-12-20  10:00 AM            10.22        100.00            0.2   \n",
      "5220 2022-12-20  11:00 AM            10.27        100.00            0.8   \n",
      "5221 2022-12-20  12:00 PM            10.30        100.00            1.0   \n",
      "5222 2022-12-20   1:00 PM            10.50        100.00            0.6   \n",
      "\n",
      "      wind_speed  wind_direction  radiation  radiation_short  \n",
      "0           0.54          164.34       0.00              0.0  \n",
      "1           0.49          200.82       0.00              0.0  \n",
      "2           0.27          202.35       0.00              0.0  \n",
      "3           0.71          181.64       0.00              0.0  \n",
      "4           0.00          144.99       0.00              0.0  \n",
      "...          ...             ...        ...              ...  \n",
      "5218        6.47          191.17       0.67            306.5  \n",
      "5219        5.19          204.72       6.87            433.5  \n",
      "5220        4.10          197.42      11.47            517.0  \n",
      "5221        4.06          188.10      11.52            548.0  \n",
      "5222        4.67          178.33       9.56            523.0  \n",
      "\n",
      "[5223 rows x 9 columns]\n",
      "          date  precipitation_sum\n",
      "0   2022-05-17                0.0\n",
      "1   2022-05-18                0.1\n",
      "2   2022-05-19               12.9\n",
      "3   2022-05-20                1.8\n",
      "4   2022-05-21                0.0\n",
      "..         ...                ...\n",
      "213 2022-12-16                0.0\n",
      "214 2022-12-17                0.0\n",
      "215 2022-12-18                0.0\n",
      "216 2022-12-19                4.0\n",
      "217 2022-12-20                5.6\n",
      "\n",
      "[218 rows x 2 columns]\n"
     ]
    }
   ],
   "source": [
    "%matplotlib ipympl\n",
    "#hourly data=dacom_weather_data, dailydata=dacom_weather_day\n",
    "path1 = os.getcwd()\n",
    "path = os.path.join(path1, 'data', 'raw_data')\n",
    "\n",
    "#dacomdailyfile = os.path.join(path, 'dacom_weather_day.csv')\n",
    "#dacomdaily=pd.read_csv(dacomdailyfile,sep=';',dayfirst=True)\n",
    "#dacomdaily['Date']=pd.to_datetime(dacomdaily['Date'].str.replace('/', '-'), errors='coerce')\n",
    "#dacomdaily=dacomdaily.set_index('Date')\n",
    "#print(dacomdaily)\n",
    "\n",
    "file = os.path.join(path, 'dacom_weather_data.csv')\n",
    "#climate data from  www.dacom.nl\n",
    "clim=pd.read_csv(file,sep=';')\n",
    "clim['date'] = pd.to_datetime(clim['date'], format = '%m/%d/%Y')\n",
    "print(clim)\n",
    "\n",
    "climday = clim.groupby(clim.date.dt.floor('d')).agg({'precipitation': ['sum']})\n",
    "climday.columns  = ['_'.join(col) for col in climday.columns.values]\n",
    "climday.reset_index(inplace=True)\n",
    "print(climday)\n",
    "\n",
    "#climdaily=clim.resample('D', how='sum')#, 'air_temperature': np.mean,'rel_humidity': np.mean})\n",
    "\n",
    "#climdaily=clim.resample('1d', origin=clim.index.max().ceil('D'),closed='right', label='right').sum()\n",
    "#(climdaily)\n",
    "#print(clim.date_time.dtype)\n",
    "#climdaily.reset_index().plot(kind='scatter', x='date_time', y='precipitation')\n",
    "\n",
    "#climday.to_excel('saved_climfile2.xlsx')\n"
   ]
  },
  {
   "cell_type": "code",
   "execution_count": 31,
   "metadata": {},
   "outputs": [],
   "source": [
    "#### COMPARING HOURLY AND DAILY DATA ####\n",
    "\n",
    "#%matplotlib ipympl\n",
    "#clim.groupby(clim.date.dt.floor('d')).sum().reset_index()\n",
    "#plt.plot(climday.precipitation_sum)\n",
    "#plt.plot(dacomdaily.index,dacomdaily.Prec)\n",
    "\n",
    "#clim3 = clim2.loc[((clim2['precipitation'] == 0))] \n",
    "\n",
    "#ie=clim2['precipitation']> 0\n",
    "#clim3=clim2[ie]\n",
    "#print(clim3)\n",
    "#plt.scatter(clim2.index,clim2.precipitation)\n",
    "#print(sum(climday.precipitation_sum),sum(dacomdaily.Prec))\n",
    "\n"
   ]
  },
  {
   "cell_type": "markdown",
   "metadata": {},
   "source": [
    "### Read data"
   ]
  },
  {
   "cell_type": "code",
   "execution_count": 32,
   "metadata": {},
   "outputs": [
    {
     "data": {
      "application/vnd.jupyter.widget-view+json": {
       "model_id": "b16cda2531e54d0c9e1880cbfe4629c0",
       "version_major": 2,
       "version_minor": 0
      },
      "text/plain": [
       "HBox(children=(IntProgress(value=0, max=39), HTML(value='')))"
      ]
     },
     "metadata": {},
     "output_type": "display_data"
    },
    {
     "name": "stderr",
     "output_type": "stream",
     "text": [
      "C:\\Users\\brasp\\Anaconda3\\lib\\site-packages\\ipykernel_launcher.py:33: FutureWarning: Sorting because non-concatenation axis is not aligned. A future version\n",
      "of pandas will change to not sort by default.\n",
      "\n",
      "To accept the future behavior, pass 'sort=False'.\n",
      "\n",
      "To retain the current behavior and silence the warning, pass 'sort=True'.\n",
      "\n",
      "C:\\Users\\brasp\\Anaconda3\\lib\\site-packages\\ipykernel_launcher.py:32: FutureWarning: Sorting because non-concatenation axis is not aligned. A future version\n",
      "of pandas will change to not sort by default.\n",
      "\n",
      "To accept the future behavior, pass 'sort=False'.\n",
      "\n",
      "To retain the current behavior and silence the warning, pass 'sort=True'.\n",
      "\n"
     ]
    },
    {
     "name": "stdout",
     "output_type": "stream",
     "text": [
      "\n",
      "              BSS  Conductivity  Corrected Depth                Date  \\\n",
      "0             NaN           NaN              NaN 2022-08-02 12:00:00   \n",
      "1             NaN           NaN              NaN 2022-08-02 13:00:00   \n",
      "2             NaN           NaN              NaN 2022-08-02 14:00:00   \n",
      "3             NaN           NaN              NaN 2022-08-02 14:00:00   \n",
      "4             NaN           NaN              NaN 2022-08-02 14:00:00   \n",
      "...           ...           ...              ...                 ...   \n",
      "84426  160.750000           NaN              NaN 2022-12-09 06:00:00   \n",
      "84427  160.258333           NaN              NaN 2022-12-09 07:00:00   \n",
      "84428  160.741667           NaN              NaN 2022-12-09 08:00:00   \n",
      "84429  161.000000           NaN              NaN 2022-12-09 09:00:00   \n",
      "84430  161.041667           NaN              NaN 2022-12-09 10:00:00   \n",
      "\n",
      "       Depth TAW          GWL  Measured Depth MonitoringPoint     Pressure  \\\n",
      "0            NaN          NaN             NaN            ILVO  1099.600000   \n",
      "1            NaN          NaN             NaN            ILVO  1099.325000   \n",
      "2            NaN          NaN             NaN            ILVO  1098.866667   \n",
      "3            NaN          NaN             NaN            ILVO  1098.775000   \n",
      "4            NaN          NaN             NaN            ILVO  1098.591667   \n",
      "...          ...          ...             ...             ...          ...   \n",
      "84426        NaN  1929.250000             NaN            ILVO          NaN   \n",
      "84427        NaN  1929.741667             NaN            ILVO          NaN   \n",
      "84428        NaN  1929.258333             NaN            ILVO          NaN   \n",
      "84429        NaN  1929.000000             NaN            ILVO          NaN   \n",
      "84430        NaN  1928.958333             NaN            ILVO          NaN   \n",
      "\n",
      "       Pressure_x  ...  Temperature           TimeStamp TopWell  Unnamed: 0  \\\n",
      "0             NaN  ...    15.203333 2022-08-02 12:30:00     NaN         NaN   \n",
      "1             NaN  ...    15.186667 2022-08-02 13:00:00     NaN         NaN   \n",
      "2             NaN  ...    15.163333 2022-08-02 13:30:00     NaN         NaN   \n",
      "3             NaN  ...    15.163333 2022-08-02 14:00:00     NaN         NaN   \n",
      "4             NaN  ...    15.146667 2022-08-02 14:30:00     NaN         NaN   \n",
      "...           ...  ...          ...                 ...     ...         ...   \n",
      "84426    1026.950  ...    -1.900000 2022-12-09 06:00:00  2158.0     10095.0   \n",
      "84427    1026.750  ...    -2.853333 2022-12-09 07:00:00  2158.0     10096.0   \n",
      "84428    1026.825  ...    -3.563333 2022-12-09 08:00:00  2158.0     10097.0   \n",
      "84429    1027.375  ...    -3.276667 2022-12-09 09:00:00  2158.0     10098.0   \n",
      "84430    1028.000  ...    -1.416667 2022-12-09 10:00:00  2158.0     10099.0   \n",
      "\n",
      "               WL  WaterLevel  WaterLevelReference  WellAbove    index  \\\n",
      "0             NaN         NaN                  NaN        NaN      NaN   \n",
      "1             NaN         NaN                  NaN        NaN      NaN   \n",
      "2             NaN         NaN                  NaN        NaN      NaN   \n",
      "3             NaN         NaN                  NaN        NaN      NaN   \n",
      "4             NaN         NaN                  NaN        NaN      NaN   \n",
      "...           ...         ...                  ...        ...      ...   \n",
      "84426  136.750000         NaN                  NaN       68.0  14435.0   \n",
      "84427  137.241667         NaN                  NaN       68.0  14436.0   \n",
      "84428  136.758333         NaN                  NaN       68.0  14437.0   \n",
      "84429  136.500000         NaN                  NaN       68.0  14438.0   \n",
      "84430  136.458333         NaN                  NaN       68.0  14439.0   \n",
      "\n",
      "       piezometer  \n",
      "0             NaN  \n",
      "1             NaN  \n",
      "2             NaN  \n",
      "3             NaN  \n",
      "4             NaN  \n",
      "...           ...  \n",
      "84426         NaN  \n",
      "84427         NaN  \n",
      "84428         NaN  \n",
      "84429         NaN  \n",
      "84430         NaN  \n",
      "\n",
      "[84431 rows x 23 columns]\n",
      "     MonitoringPoint SerialNumber           TimeStamp  Pressure  Temperature  \\\n",
      "124             ILVO        AP825 2022-08-02 13:00:00  1037.700    31.850000   \n",
      "125             ILVO        AP825 2022-08-02 14:00:00  1037.650    33.176667   \n",
      "126             ILVO        AP825 2022-08-02 15:00:00  1036.825    33.856667   \n",
      "127             ILVO        AP825 2022-08-02 16:00:00  1036.025    33.803333   \n",
      "128             ILVO        AP825 2022-08-02 17:00:00  1035.825    33.663333   \n",
      "...              ...          ...                 ...       ...          ...   \n",
      "3477            ILVO        AP825 2022-12-20 06:00:00  1032.175     9.903333   \n",
      "3478            ILVO        AP825 2022-12-20 07:00:00  1031.550    10.490000   \n",
      "3479            ILVO        AP825 2022-12-20 08:00:00  1032.175     9.850000   \n",
      "3480            ILVO        AP825 2022-12-20 09:00:00  1032.050     9.223333   \n",
      "3481            ILVO        AP825 2022-12-20 10:00:00  1032.175     9.623333   \n",
      "\n",
      "      Conductivity  WaterLevel  WaterLevelReference                Date  \n",
      "124            NaN         NaN                  NaN 2022-08-02 13:00:00  \n",
      "125            NaN         NaN                  NaN 2022-08-02 14:00:00  \n",
      "126            NaN         NaN                  NaN 2022-08-02 15:00:00  \n",
      "127            NaN         NaN                  NaN 2022-08-02 16:00:00  \n",
      "128            NaN         NaN                  NaN 2022-08-02 17:00:00  \n",
      "...            ...         ...                  ...                 ...  \n",
      "3477           NaN         NaN                  NaN 2022-12-20 06:00:00  \n",
      "3478           NaN         NaN                  NaN 2022-12-20 07:00:00  \n",
      "3479           NaN         NaN                  NaN 2022-12-20 08:00:00  \n",
      "3480           NaN         NaN                  NaN 2022-12-20 09:00:00  \n",
      "3481           NaN         NaN                  NaN 2022-12-20 10:00:00  \n",
      "\n",
      "[3358 rows x 9 columns]\n"
     ]
    }
   ],
   "source": [
    "datapath =  os.path.join(path1, 'data')\n",
    "baro_ind='AP825'\n",
    "xls_files = glob.glob(datapath + \"\\*.xlsx\") # change to csv \n",
    "#barometer felt down in pipe on   '2022-05-25 07:25:00'  \n",
    "#loop over the list of xls files\n",
    "ind = 0\n",
    "diver_names={}\n",
    "alldf={}\n",
    "for i,f in tqdm(enumerate(xls_files),total=len(xls_files)):\n",
    "    # read the csv file\n",
    "    df = pd.read_excel(f)\n",
    "    #print(df)\n",
    "    # remove double copied parts of the logged data from the raw data files\n",
    "    df=df.drop_duplicates()  \n",
    "    df=df.assign(Date=df.TimeStamp.dt.round('H'))\n",
    "    \n",
    "    df['Date']=pd.to_datetime(df['Date'],dayfirst=True)\n",
    "    df=df.loc[(df['TimeStamp'] > '2022-08-02 12:00:00')]\n",
    "    dfdaily=df.resample('D', on = 'Date').mean()\n",
    "\n",
    "    # merge all data in 1 dataframe\n",
    "    if baro_ind in f:\n",
    "        baro_data=df\n",
    "        baro_data=baro_data.loc[(baro_data['TimeStamp'] > '2022-08-02 12:00:00')]\n",
    "        #baro_data=baro_data.append.df# this tests for substrings\n",
    "    if ind == 0:\n",
    "        #First data frame loaded\n",
    "        GWdata = df\n",
    "        GWdata_daily = dfdaily\n",
    "    else:\n",
    "        # Paste the rest to this dataframe\n",
    "        GWdata = pd.concat([GWdata,df],axis=0).reset_index(drop=True)\n",
    "        GWdata_daily = pd.concat([GWdata_daily,df],axis=0).reset_index(drop=True)\n",
    "        alldf[i]=df\n",
    "        alldf[i]=alldf[i].loc[(alldf[i]['TimeStamp'] > '2022-08-02 12:00:00')]\n",
    "        GWdata\n",
    "    ind = ind + 1 \n",
    "#Remove empty columns from the dataframe    \n",
    "#GWdata.drop(labels=['Conductivity', 'WaterLevel','WaterLevelReference'], axis=1)\n",
    "#GWdata.loc[GWdata[\"SerialNumber\"]=='AP825'].reset_index()\n",
    "#baro_data.reset_index()\n",
    "\n",
    "print(GWdata)\n",
    "print(baro_data)\n",
    "#GWdata.to_excel('saved_file1.xlsx')\n"
   ]
  },
  {
   "cell_type": "code",
   "execution_count": 33,
   "metadata": {},
   "outputs": [
    {
     "name": "stdout",
     "output_type": "stream",
     "text": [
      "   piezometer SerialNumber                Time  Measured Depth  \\\n",
      "0           a        AG083 2022-08-02 17:00:00          -215.0   \n",
      "1           a        AG083 2022-08-18 09:36:00          -216.0   \n",
      "2           a        AG083 2022-09-09 10:25:00          -224.0   \n",
      "3           a        AG083 2022-09-14 15:17:00          -221.0   \n",
      "4           a        AG083 2022-09-20 10:04:00          -215.0   \n",
      "5           a        AG083 2022-10-17 15:45:00          -202.0   \n",
      "6           a        AG083 2022-11-21 15:00:00          -176.0   \n",
      "7           a        AG083 2022-11-29 15:00:00          -150.0   \n",
      "8           a        AG083 2022-12-20 10:00:00          -169.0   \n",
      "9           b        AP707 2022-08-02 17:50:00          -210.0   \n",
      "10          b        AP707 2022-08-18 09:40:00          -205.0   \n",
      "11          b        AP707 2022-09-09 10:30:00          -210.0   \n",
      "12          b        AP707 2022-09-14 15:00:00          -208.0   \n",
      "13          b        AP707 2022-09-20 10:15:00          -200.0   \n",
      "14          b        AP707 2022-10-17 15:45:00          -189.0   \n",
      "15          b        AP707 2022-11-21 15:00:00          -168.0   \n",
      "16          b        AP707 2022-11-29 15:00:00          -140.0   \n",
      "17          b        AP707 2022-12-20 10:00:00          -160.0   \n",
      "18          c        CA186 2022-08-02 12:15:00          -215.0   \n",
      "19          c        CA186 2022-08-18 09:42:00          -194.0   \n",
      "20          c        CA186 2022-09-09 10:34:00          -194.0   \n",
      "21          c        CA186 2022-09-14 14:35:00          -192.0   \n",
      "22          c        CA186 2022-09-20 10:20:00          -188.0   \n",
      "23          c        CA186 2022-10-17 15:45:00          -176.0   \n",
      "24          c        CA186 2022-11-21 15:00:00          -143.0   \n",
      "25          c        CA186 2022-11-29 15:00:00          -125.0   \n",
      "26          c        CA186 2022-12-20 10:00:00          -137.0   \n",
      "27          d        AZ649 2022-08-02 13:15:00          -283.0   \n",
      "28          d        AZ649 2022-08-18 09:46:00          -271.0   \n",
      "29          d        AZ649 2022-09-09 10:45:00          -289.0   \n",
      "30          d        AZ649 2022-09-14 14:35:00          -277.0   \n",
      "31          d        AZ649 2022-09-20 10:22:00          -268.0   \n",
      "32          d        AZ649 2022-11-21 14:50:00          -223.0   \n",
      "33          d        AZ649 2022-11-29 15:00:00          -181.0   \n",
      "34          d        AZ649 2022-12-20 10:00:00          -211.0   \n",
      "35          e        CA969 2022-08-02 13:15:00         -9900.0   \n",
      "36          e        CA969 2022-08-18 09:48:00         -9900.0   \n",
      "37          e        CA969 2022-09-09 11:00:00         -9900.0   \n",
      "38          e        CA969 2022-09-14 15:30:00         -9900.0   \n",
      "39          e        CA969 2022-09-20 10:25:00         -9900.0   \n",
      "40          e        CA969 2022-11-21 14:20:00          -448.0   \n",
      "41          e        CA969 2022-11-29 15:00:00          -265.0   \n",
      "42          e        CA969 2022-12-20 10:00:00          -270.0   \n",
      "\n",
      "    Corrected Depth  Depth TAW  \n",
      "0            -159.0      19.71  \n",
      "1            -160.0      19.70  \n",
      "2            -168.0      19.62  \n",
      "3            -165.0      19.65  \n",
      "4            -159.0      19.71  \n",
      "5            -146.0      19.84  \n",
      "6            -120.0      20.10  \n",
      "7             -94.0      20.36  \n",
      "8            -113.0      20.17  \n",
      "9            -167.0      18.83  \n",
      "10           -162.0      18.88  \n",
      "11           -167.0      18.83  \n",
      "12           -165.0      18.85  \n",
      "13           -157.0      18.93  \n",
      "14           -146.0      19.04  \n",
      "15           -125.0      19.25  \n",
      "16            -97.0      19.53  \n",
      "17           -117.0      19.33  \n",
      "18           -152.0      18.18  \n",
      "19           -131.0      18.39  \n",
      "20           -131.0      18.39  \n",
      "21           -129.0      18.41  \n",
      "22           -125.0      18.45  \n",
      "23           -113.0      18.57  \n",
      "24            -80.0      18.90  \n",
      "25            -62.0      19.08  \n",
      "26            -74.0      18.96  \n",
      "27           -215.0      18.75  \n",
      "28           -203.0      18.87  \n",
      "29           -221.0      18.69  \n",
      "30           -209.0      18.81  \n",
      "31           -200.0      18.90  \n",
      "32           -155.0      19.35  \n",
      "33           -113.0      19.77  \n",
      "34           -143.0      19.47  \n",
      "35          -9830.0     -77.00  \n",
      "36          -9830.0     -77.00  \n",
      "37          -9830.0     -77.00  \n",
      "38          -9830.0     -77.00  \n",
      "39          -9830.0     -77.00  \n",
      "40           -420.0      18.10  \n",
      "41           -237.0      19.93  \n",
      "42           -242.0      19.88  \n"
     ]
    }
   ],
   "source": [
    "# Read manually measured water dephts for inspection of the data    \n",
    "path_obs=os.path.join(path1, 'data','raw_data')\n",
    "file_obs = os.path.join(path_obs, 'manual_check_water_depth.xlsx')\n",
    "df_info = pd.read_excel(file_obs)\n",
    "df_info['Time']=pd.to_datetime(df_info['Time'],dayfirst=True)\n",
    "(df_info.Time)\n",
    "df_info2=df_info[df_info.Time.notnull()]\n",
    "df_info2=df_info2.reset_index(drop=True)\n",
    "df_info2.iloc[:,3] = (-100*df_info2.iloc[:,3]) \n",
    "df_info2.iloc[:,4] =-100*df_info2.iloc[:,4] \n",
    "groups = df_info2.groupby('SerialNumber')\n",
    "colors = {'AG083':'#ff7f0e','AP707': '#8c564b','CA186': '#d62728','AZ649': '#2ca02c', 'CA969':'#9467bd'}\n",
    "print(df_info2)"
   ]
  },
  {
   "cell_type": "markdown",
   "metadata": {},
   "source": [
    "## Processing steps"
   ]
  },
  {
   "cell_type": "markdown",
   "metadata": {},
   "source": [
    "Dataset Processing explanation\t\t\t\t\t\t\n",
    "1. Collect total pressure (TP) from divers\t\t (cmH2O)\t\t\t\t\n",
    "2. Calculate water pressure (WP) = TP - AP\t\t (cmH2O)\t\t\n",
    "3. Calculate hydraulic gradient. Take the timestep \"t\" at which a manual measurement is realized and calculate the hydraulic head\t\t\t\t\t\t\n",
    "     - H(t) = TW-WD(t)\t\t\t\t\t\t\n",
    "     - H (t+1) = H(t)  + (WP (t+1) - WP (t))/100\t\t\t\t\t\t\n",
    "\t\t\t\t\t\t\t\t\t\t\t\t\t\t\t\t\t\n",
    "With :\t\t\t\t\t\t\t\t\t\t\t\n",
    "AP= Air Pressure (cmH20)\t\t\t\t\t\t\t\t\t\t\t\n",
    "H=Hydraulic Head (mTAW)\t\t\t\t\t\t\n",
    "TW=Top well Elevation (mTAW)\t\t\t\t\t\t\n",
    "WD=Water depth from the top well (m)\t\t\t\t\t\t\t\t\t\t\t\t\n",
    "\t\t\t\t\t\t\n",
    "| well   name | well   name | soil elevation(mTAW) | well height above the ground (m) | Top well (mTAW) | rope length (m)|\n",
    "|:-----------:|:-----------:|:--------------------:|:--------------------------------:|:---------------:|:------------|\n",
    "|  AG083  |   a   |         21,30        |                 0.56                |      21,86      |    |\n",
    "|   AP707   |   b   |        20,5        |               0.43               |      20.93      |      |\n",
    "|   CA186  |   c   |       19,7         |               0.63               |        20.33    |        |\n",
    "|   AZ649   |   d   |         20,9        |              0.68                |      21.58      |      |\n",
    "|   CA969  |  e  |         22,3        |                0.7               |      23.0     |       |\n",
    "|   AP689   |     |                 |                            |            |           |"
   ]
  },
  {
   "cell_type": "code",
   "execution_count": 39,
   "metadata": {},
   "outputs": [
    {
     "name": "stdout",
     "output_type": "stream",
     "text": [
      "       Unnamed: 0  index MonitoringPoint SerialNumber            TimeStamp  \\\n",
      "0               0      0            ILVO        AZ649  2022-08-02 13:00:00   \n",
      "1               1      1            ILVO        AZ649  2022-08-02 13:00:00   \n",
      "2               2      2            ILVO        AZ649  2022-08-02 13:00:00   \n",
      "3               3      3            ILVO        AZ649  2022-08-02 13:00:00   \n",
      "4               4      4            ILVO        AZ649  2022-08-02 13:00:00   \n",
      "...           ...    ...             ...          ...                  ...   \n",
      "13452       13452  27893            ILVO        AZ649  2022-12-20 06:00:00   \n",
      "13453       13453  27894            ILVO        AZ649  2022-12-20 07:00:00   \n",
      "13454       13454  27895            ILVO        AZ649  2022-12-20 08:00:00   \n",
      "13455       13455  27896            ILVO        AZ649  2022-12-20 09:00:00   \n",
      "13456       13456  27897            ILVO        AZ649  2022-12-20 10:00:00   \n",
      "\n",
      "       Pressure_x  Temperature  Conductivity  WaterLevel  WaterLevelReference  \\\n",
      "0        1037.700    31.850000           NaN         NaN                  NaN   \n",
      "1        1037.700    31.850000           NaN         NaN                  NaN   \n",
      "2        1037.700    31.850000           NaN         NaN                  NaN   \n",
      "3        1037.700    31.850000           NaN         NaN                  NaN   \n",
      "4        1037.700    31.850000           NaN         NaN                  NaN   \n",
      "...           ...          ...           ...         ...                  ...   \n",
      "13452    1032.175     9.903333           NaN         NaN                  NaN   \n",
      "13453    1031.550    10.490000           NaN         NaN                  NaN   \n",
      "13454    1032.175     9.850000           NaN         NaN                  NaN   \n",
      "13455    1032.050     9.223333           NaN         NaN                  NaN   \n",
      "13456    1032.175     9.623333           NaN         NaN                  NaN   \n",
      "\n",
      "                      Date   Pressure_y          WL     RL  TopWell  \\\n",
      "0      2022-08-02 13:00:00  1133.775000   96.075000  370.0     2158   \n",
      "1      2022-08-02 13:00:00  1133.775000   96.075000  370.0     2158   \n",
      "2      2022-08-02 13:00:00  1133.775000   96.075000  370.0     2158   \n",
      "3      2022-08-02 13:00:00  1133.775000   96.075000  370.0     2158   \n",
      "4      2022-08-02 13:00:00  1133.775000   96.075000  370.0     2158   \n",
      "...                    ...          ...         ...    ...      ...   \n",
      "13452  2022-12-20 06:00:00  1170.700000  138.525000  365.5     2158   \n",
      "13453  2022-12-20 07:00:00  1170.291667  138.741667  365.5     2158   \n",
      "13454  2022-12-20 08:00:00  1171.750000  139.575000  365.5     2158   \n",
      "13455  2022-12-20 09:00:00  1171.283333  139.233333  365.5     2158   \n",
      "13456  2022-12-20 10:00:00  1171.458333  139.283333  365.5     2158   \n",
      "\n",
      "               GWL  WellAbove         BSS  \n",
      "0      1884.075000         68  205.925000  \n",
      "1      1884.075000         68  205.925000  \n",
      "2      1884.075000         68  205.925000  \n",
      "3      1884.075000         68  205.925000  \n",
      "4      1884.075000         68  205.925000  \n",
      "...            ...        ...         ...  \n",
      "13452  1931.025000         68  158.975000  \n",
      "13453  1931.241667         68  158.758333  \n",
      "13454  1932.075000         68  157.925000  \n",
      "13455  1931.733333         68  158.266667  \n",
      "13456  1931.783333         68  158.216667  \n",
      "\n",
      "[13457 rows x 18 columns]\n",
      "0        1884.075000\n",
      "1        1884.075000\n",
      "2        1884.075000\n",
      "3        1884.075000\n",
      "4        1884.075000\n",
      "            ...     \n",
      "13452    1931.025000\n",
      "13453    1931.241667\n",
      "13454    1932.075000\n",
      "13455    1931.733333\n",
      "13456    1931.783333\n",
      "Name: GWL, Length: 13457, dtype: float64\n"
     ]
    }
   ],
   "source": [
    "path1 = os.getcwd()\n",
    "path = os.path.join(path1, 'data')\n",
    "file = os.path.join(path, 'PiezoD20dec.csv')\n",
    "PiezoD=pd.read_csv(file,sep=';',dayfirst=True)\n",
    "\n",
    "print(PiezoD)\n",
    "print(PiezoD['GWL'])"
   ]
  },
  {
   "cell_type": "code",
   "execution_count": 40,
   "metadata": {},
   "outputs": [
    {
     "data": {
      "application/vnd.jupyter.widget-view+json": {
       "model_id": "4122370fcd9d499bbededd4b3faefdd3",
       "version_major": 2,
       "version_minor": 0
      },
      "text/plain": [
       "FigureCanvasNbAgg()"
      ]
     },
     "metadata": {},
     "output_type": "display_data"
    },
    {
     "name": "stdout",
     "output_type": "stream",
     "text": [
      "      index MonitoringPoint SerialNumber           TimeStamp  Pressure_x  \\\n",
      "0         0            ILVO        CA969 2022-08-02 13:00:00    1037.700   \n",
      "1         1            ILVO        CA969 2022-08-02 13:00:00    1037.700   \n",
      "2         2            ILVO        CA969 2022-08-02 14:00:00    1037.650   \n",
      "3         3            ILVO        CA969 2022-08-02 14:00:00    1037.650   \n",
      "4         4            ILVO        CA969 2022-08-02 15:00:00    1036.825   \n",
      "...     ...             ...          ...                 ...         ...   \n",
      "1641   2078            ILVO        CA969 2022-09-20 05:00:00    1044.025   \n",
      "1642   2079            ILVO        CA969 2022-09-20 06:00:00    1043.900   \n",
      "1643   2080            ILVO        CA969 2022-09-20 07:00:00    1044.275   \n",
      "1644   2081            ILVO        CA969 2022-09-20 08:00:00    1045.050   \n",
      "1645   2082            ILVO        CA969 2022-09-20 09:00:00    1044.675   \n",
      "\n",
      "      Temperature  Conductivity  WaterLevel  WaterLevelReference  \\\n",
      "0       31.850000           NaN         NaN                  NaN   \n",
      "1       31.850000           NaN         NaN                  NaN   \n",
      "2       33.176667           NaN         NaN                  NaN   \n",
      "3       33.176667           NaN         NaN                  NaN   \n",
      "4       33.856667           NaN         NaN                  NaN   \n",
      "...           ...           ...         ...                  ...   \n",
      "1641     6.280000           NaN         NaN                  NaN   \n",
      "1642     5.593333           NaN         NaN                  NaN   \n",
      "1643     5.716667           NaN         NaN                  NaN   \n",
      "1644    14.396667           NaN         NaN                  NaN   \n",
      "1645    15.553333           NaN         NaN                  NaN   \n",
      "\n",
      "                    Date   Pressure_y         WL          GWL  \n",
      "0    2022-08-02 13:00:00  1051.933333  14.233333  1937.233333  \n",
      "1    2022-08-02 13:00:00  1051.933333  14.233333  1937.233333  \n",
      "2    2022-08-02 14:00:00  1051.641667  13.991667  1936.991667  \n",
      "3    2022-08-02 14:00:00  1051.641667  13.991667  1936.991667  \n",
      "4    2022-08-02 15:00:00  1050.650000  13.825000  1936.825000  \n",
      "...                  ...          ...        ...          ...  \n",
      "1641 2022-09-20 05:00:00  1052.516667   8.491667  1931.491667  \n",
      "1642 2022-09-20 06:00:00  1052.808333   8.908333  1931.908333  \n",
      "1643 2022-09-20 07:00:00  1052.808333   8.533333  1931.533333  \n",
      "1644 2022-09-20 08:00:00  1053.100000   8.050000  1931.050000  \n",
      "1645 2022-09-20 09:00:00  1053.683333   9.008333  1932.008333  \n",
      "\n",
      "[1646 rows x 13 columns]\n"
     ]
    }
   ],
   "source": [
    "wellinfo = { 'SerialNumber' : ['AG083','AP707','CA186','AZ649','CA969'], \n",
    "            'WellName' : {'a','b','c','d','e'},\n",
    "            'lgnds' : ['a','b','c','d','e'],\n",
    "            'soil_mTAW' : [21.30,20.5,19.7,20.9,22.3],\n",
    "            'well_height' : [0.56,0.43,0.63,0.68,0.70],\n",
    "            'top_well_cm' :[2186,2093,2033,2158,2300],\n",
    "            'RL' : [350,332,341,370,377],\n",
    "            'L1':[294,289,278,302,307],\n",
    "            'initials' : [158,165,147,225,0],\n",
    "            'measure_time':['2022-08-02 17:30:00','2022-08-02 17:00:00',\n",
    "                        '2022-08-02 15:00:00','2022-08-02 11:00:00',\n",
    "                        '2021-08-02 13:00:00'],\n",
    "           'long':[108855,108899,108929,108884,108814],\n",
    "           'lat':[185311,185293,185281,185274,185203]}\n",
    "alldata={}\n",
    "dov={}\n",
    "date1=datetime.date(2022,8,1)\n",
    "date2=datetime.date(2022,12,21)\n",
    "ftsz=16\n",
    "\n",
    "fig, ax= plt.subplots(figsize=(10,5))\n",
    "axb=ax.twinx()\n",
    "\n",
    "\n",
    "\n",
    "for f,i in enumerate(wellinfo['SerialNumber']):\n",
    "    ddd=GWdata.loc[GWdata[\"SerialNumber\"]==i].reset_index()\n",
    "    dataall=baro_data.merge(ddd[['TimeStamp','Pressure']], on='TimeStamp')\n",
    "    dataall.SerialNumber=i\n",
    "    dataall[dataall['Pressure_y'].notna()]\n",
    "    dataall = dataall[dataall['Pressure_x']<dataall['Pressure_y']]\n",
    "    dataall[\"WL\"]=(dataall['Pressure_y']-dataall['Pressure_x'])\n",
    "    dataall=dataall.reset_index()\n",
    "    if wellinfo['SerialNumber'][f]=='AZ649':\n",
    "        # calculate GWL manually in Excel\n",
    "        dataall[\"GWL\"]=PiezoD[\"GWL\"]\n",
    "        dataall.to_excel('saved_file.xlsx')\n",
    "    else:\n",
    "        dataall[\"GWL\"]=-wellinfo['RL'][f]+wellinfo['top_well_cm'][f]+dataall[\"WL\"]\n",
    "    if wellinfo['SerialNumber'][f]=='AG083':\n",
    "        dataA = dataall\n",
    "        dataall.to_excel('saved_file_headA.xlsx')\n",
    "    if wellinfo['SerialNumber'][f]=='AP707':\n",
    "        dataB = dataall\n",
    "        dataall.to_excel('saved_file_headB.xlsx')\n",
    "    if wellinfo['SerialNumber'][f]=='CA186':\n",
    "        dataC = dataall\n",
    "        dataall.to_excel('saved_file_headC.xlsx')\n",
    "    if wellinfo['SerialNumber'][f]=='AZ649':\n",
    "        dataD = dataall\n",
    "        dataall.to_excel('saved_file_headD.xlsx')\n",
    "    if wellinfo['SerialNumber'][f]=='CA969':\n",
    "        dataE = dataall\n",
    "        dataall.to_excel('saved_file_headE.xlsx')\n",
    "    if wellinfo['SerialNumber'][f]=='CA186':\n",
    "        ax.plot(dataall.TimeStamp[840:],(dataall[\"GWL\"][840:]/100),colors[i])\n",
    "    else:\n",
    "        ax.plot(dataall.TimeStamp,(dataall[\"GWL\"]/100),colors[i])\n",
    "    ax.set_ylim([18,21])\n",
    "    alldata[i]=dataall\n",
    "\n",
    "\n",
    "ax.scatter(df_info2.Time, df_info2.iloc[:,5], 75,c=df_info2['SerialNumber'].map(colors),alpha=.2, marker='o')\n",
    "ax.legend(wellinfo['lgnds'],loc='upper left', fontsize=ftsz)\n",
    "ax.set_ylabel('GWL[mTAW]', fontsize= ftsz)\n",
    "ax.tick_params(axis='x', which='both', labelsize=ftsz-2,rotation=60)\n",
    "ax.tick_params(axis='y', which='both', labelsize=ftsz)\n",
    "#ax.hlines(y=21.3, xmin = date1, xmax = date2, color='#ff7f0e', linestyle = '--')\n",
    "#ax.hlines(y=20.5, xmin = date1, xmax = date2,color='#8c564b', linestyle = '--')\n",
    "#ax.hlines(y=19.7, xmin = date1, xmax = date2,color='#d62728', linestyle = '--')\n",
    "#ax.hlines(y=20.9, xmin = date1, xmax = date2,color='#2ca02c', linestyle = '--')\n",
    "#ax.hlines(y=22.3, xmin = date1, xmax = date2,color='#9467bd', linestyle = '--')\n",
    "\n",
    "\n",
    "axb.bar(climday['date'],climday.precipitation_sum)\n",
    "axb.set_ylim([0, 30])\n",
    "axb.invert_yaxis()\n",
    "axb.set_ylabel('Precipitation [mm]', fontsize= ftsz)\n",
    "axb.tick_params(axis='x', which='both', labelsize=ftsz)\n",
    "axb.tick_params(axis='y', which='both', labelsize=ftsz)\n",
    "\n",
    "axb.set_xlim([date1,date2])\n",
    "\n",
    "print(dataall)"
   ]
  },
  {
   "cell_type": "code",
   "execution_count": 8,
   "metadata": {},
   "outputs": [],
   "source": [
    "## Below surface depth"
   ]
  },
  {
   "cell_type": "code",
   "execution_count": 38,
   "metadata": {},
   "outputs": [
    {
     "data": {
      "application/vnd.jupyter.widget-view+json": {
       "model_id": "da546344348c45438e7121e3622a00f0",
       "version_major": 2,
       "version_minor": 0
      },
      "text/plain": [
       "FigureCanvasNbAgg()"
      ]
     },
     "metadata": {},
     "output_type": "display_data"
    },
    {
     "name": "stdout",
     "output_type": "stream",
     "text": [
      "      index MonitoringPoint SerialNumber           TimeStamp  Pressure_x  \\\n",
      "0         0            ILVO        CA969 2022-08-02 13:00:00    1037.700   \n",
      "1         1            ILVO        CA969 2022-08-02 13:00:00    1037.700   \n",
      "2         2            ILVO        CA969 2022-08-02 14:00:00    1037.650   \n",
      "3         3            ILVO        CA969 2022-08-02 14:00:00    1037.650   \n",
      "4         4            ILVO        CA969 2022-08-02 15:00:00    1036.825   \n",
      "...     ...             ...          ...                 ...         ...   \n",
      "1641   2078            ILVO        CA969 2022-09-20 05:00:00    1044.025   \n",
      "1642   2079            ILVO        CA969 2022-09-20 06:00:00    1043.900   \n",
      "1643   2080            ILVO        CA969 2022-09-20 07:00:00    1044.275   \n",
      "1644   2081            ILVO        CA969 2022-09-20 08:00:00    1045.050   \n",
      "1645   2082            ILVO        CA969 2022-09-20 09:00:00    1044.675   \n",
      "\n",
      "      Temperature  Conductivity  WaterLevel  WaterLevelReference  \\\n",
      "0       31.850000           NaN         NaN                  NaN   \n",
      "1       31.850000           NaN         NaN                  NaN   \n",
      "2       33.176667           NaN         NaN                  NaN   \n",
      "3       33.176667           NaN         NaN                  NaN   \n",
      "4       33.856667           NaN         NaN                  NaN   \n",
      "...           ...           ...         ...                  ...   \n",
      "1641     6.280000           NaN         NaN                  NaN   \n",
      "1642     5.593333           NaN         NaN                  NaN   \n",
      "1643     5.716667           NaN         NaN                  NaN   \n",
      "1644    14.396667           NaN         NaN                  NaN   \n",
      "1645    15.553333           NaN         NaN                  NaN   \n",
      "\n",
      "                    Date   Pressure_y         WL         GWL  \n",
      "0    2022-08-02 13:00:00  1051.933333  14.233333  292.766667  \n",
      "1    2022-08-02 13:00:00  1051.933333  14.233333  292.766667  \n",
      "2    2022-08-02 14:00:00  1051.641667  13.991667  293.008333  \n",
      "3    2022-08-02 14:00:00  1051.641667  13.991667  293.008333  \n",
      "4    2022-08-02 15:00:00  1050.650000  13.825000  293.175000  \n",
      "...                  ...          ...        ...         ...  \n",
      "1641 2022-09-20 05:00:00  1052.516667   8.491667  298.508333  \n",
      "1642 2022-09-20 06:00:00  1052.808333   8.908333  298.091667  \n",
      "1643 2022-09-20 07:00:00  1052.808333   8.533333  298.466667  \n",
      "1644 2022-09-20 08:00:00  1053.100000   8.050000  298.950000  \n",
      "1645 2022-09-20 09:00:00  1053.683333   9.008333  297.991667  \n",
      "\n",
      "[1646 rows x 13 columns]\n"
     ]
    }
   ],
   "source": [
    "wellinfo = { 'SerialNumber' : ['AG083','AP707','CA186','AZ649','CA969'], \n",
    "            'WellName' : {'a','b','c','d','e'},\n",
    "            'lgnds' : ['a','b','c','d','e'],\n",
    "            'soil_mTAW' : [21.30,20.5,19.7,20.9,22.3],\n",
    "            'well_height_m' : [56,43,63,68,70],\n",
    "            'RL' : [350,332,341,370,377],\n",
    "            'L1':[294,289,278,302,307],\n",
    "            'initials' : [158,165,147,225,0],\n",
    "            'measure_time':['2022-08-02 17:30:00','2022-08-02 17:00:00',\n",
    "                        '2022-08-02 15:00:00','2022-08-02 11:00:00',\n",
    "                        '2021-08-02 13:00:00'],\n",
    "           'long':[108855,108899,108929,108884,108814],\n",
    "           'lat':[185311,185293,185281,185274,185203]}\n",
    "alldata1={}\n",
    "date1=datetime.date(2022,8,1)\n",
    "date2=datetime.date(2022,12,10)\n",
    "ftsz=16\n",
    "\n",
    "fig, ax= plt.subplots(figsize=(10,5))\n",
    "axb=ax.twinx()\n",
    "\n",
    "for f,i in enumerate(wellinfo['SerialNumber']):\n",
    "    ddd1=GWdata.loc[GWdata[\"SerialNumber\"]==i].reset_index()\n",
    "    dataall1=baro_data.merge(ddd1[['TimeStamp','Pressure']], on='TimeStamp')\n",
    "    dataall1.SerialNumber=i\n",
    "    dataall1[dataall1['Pressure_y'].notna()]\n",
    "    dataall1 = dataall1[dataall1['Pressure_x']<dataall1['Pressure_y']]\n",
    "    dataall1[\"WL\"]=(dataall1['Pressure_y']-dataall1['Pressure_x'])\n",
    "    dataall1=dataall1.reset_index()\n",
    "    if wellinfo['SerialNumber'][f]=='AZ649':\n",
    "        dataall1[\"GWL\"]=PiezoD[\"BSS\"]\n",
    "    else:\n",
    "        dataall1[\"GWL\"]=wellinfo['RL'][f]-wellinfo['well_height_m'][f]-dataall1[\"WL\"]\n",
    "    if wellinfo['SerialNumber'][f]=='CA186':\n",
    "        ax.plot(dataall1.TimeStamp[840:],-( dataall1[\"GWL\"][840:]/100),colors[i])\n",
    "    else:\n",
    "        ax.plot(dataall1.TimeStamp,-( dataall1[\"GWL\"]/100),colors[i])\n",
    "    ax.set_ylim([-3.5,0])\n",
    "    alldata1[i]=dataall1\n",
    "    \n",
    "\n",
    "#ax.scatter(df_info2.Time, df_info2.iloc[:,4]/100, 75,c=df_info2['SerialNumber'].map(colors),alpha=.2, marker='o')\n",
    "ax.legend(wellinfo['lgnds'],loc='upper left', fontsize=ftsz)\n",
    "ax.set_ylabel('GWL[b.s.s, m]', fontsize= ftsz)\n",
    "ax.tick_params(axis='x', which='both', labelsize=ftsz-2,rotation=60)\n",
    "ax.tick_params(axis='y', which='both', labelsize=ftsz)\n",
    "\n",
    "\n",
    "\n",
    "axb.bar(climday['date'],climday.precipitation_sum)\n",
    "axb.set_ylim([0, 30])\n",
    "axb.invert_yaxis()\n",
    "axb.set_ylabel('Precipitation [mm]', fontsize= ftsz)\n",
    "axb.tick_params(axis='x', which='both', labelsize=ftsz)\n",
    "axb.tick_params(axis='y', which='both', labelsize=ftsz)\n",
    "\n",
    "axb.set_xlim([date1,date2])\n",
    "\n",
    "print(dataall1)"
   ]
  },
  {
   "cell_type": "markdown",
   "metadata": {},
   "source": [
    "# calculate Gradients [H2-H1/(Distance)], \n",
    "# H mtaw between each pair of piezometer like (a,b), (b,c), (c,d),(b,d),(a,d)\n",
    "| distance matrix | a | b | c | d | e |\n",
    "|:-----------:|:-----------:|:--------------------:|:--------------------------------:|:---------------:|:------------|\n",
    "|  a  |   -  |         47,621        |                 79,562                |      46,382      |  115,062  |\n",
    "|   b   |   47,621   |         -       |              32,528               |      24,529      |  123,775    |\n",
    "|   c  |   79,562   |       32,528         |            -                  |        45,460    |     138,869   |\n",
    "|   d   |   46,382   |         24,529        |              45,460                |      -      |   99,504   |\n",
    "|   e  |  115,062  |         123,775        |                138,869               |      99,504     |   -    |"
   ]
  },
  {
   "cell_type": "code",
   "execution_count": 10,
   "metadata": {},
   "outputs": [],
   "source": [
    "### (a,b) ###\n",
    "dataA1 = dataA.drop_duplicates(subset=['Date'])\n",
    "dataB1 = dataB.drop_duplicates(subset=['Date'])\n",
    "dataA1 = dataA1[['Date','GWL']]\n",
    "dataB1 = dataB1[[\"Date\", 'GWL']]\n",
    "#dataB2 = dataB1.drop(dataB1.loc[dataB1['Date'] == '2022-11-04 11:00:00'].index)\n",
    "dataA1 = dataA1.set_index('Date')\n",
    "dataB1 = dataB1.set_index('Date')"
   ]
  },
  {
   "cell_type": "code",
   "execution_count": 11,
   "metadata": {},
   "outputs": [],
   "source": [
    "diffAB = (dataA1['GWL'] - dataB1['GWL'])\n",
    "hydgraAB = diffAB/4762.1 \n",
    "hydgraAB = hydgraAB.reset_index()"
   ]
  },
  {
   "cell_type": "code",
   "execution_count": 12,
   "metadata": {},
   "outputs": [
    {
     "data": {
      "application/vnd.jupyter.widget-view+json": {
       "model_id": "",
       "version_major": 2,
       "version_minor": 0
      },
      "text/plain": [
       "FigureCanvasNbAgg()"
      ]
     },
     "metadata": {},
     "output_type": "display_data"
    },
    {
     "data": {
      "text/plain": [
       "<function matplotlib.pyplot.show(*args, **kw)>"
      ]
     },
     "execution_count": 12,
     "metadata": {},
     "output_type": "execute_result"
    }
   ],
   "source": [
    "plt.figure(figsize=(10,5))\n",
    "plt.plot(hydgraAB['Date'], hydgraAB['GWL'])\n",
    "plt.title('Hydraulic gradient (a,b)', fontsize = 25)\n",
    "plt.ylabel('Hydraulic gradient', fontsize = 20)\n",
    "plt.xlabel('Time', fontsize = 20)\n",
    "plt.xticks(rotation = 45) \n",
    "plt.show"
   ]
  },
  {
   "cell_type": "code",
   "execution_count": 13,
   "metadata": {},
   "outputs": [],
   "source": [
    "### (a,c) ###\n",
    "dataC1 = dataC.drop_duplicates(subset=['Date'])\n",
    "dataC2 = dataC1[['Date','GWL']]\n",
    "#dataC2 = dataC2.drop(dataC2.loc[dataC['Date'] == '2022-08-02 15:00:00'].index)\n",
    "#dataC2 = dataC2.drop(dataC2.loc[dataC['Date'] == '2022-08-02 16:00:00'].index)\n",
    "#dataA1 = dataA1.reset_index()\n",
    "#dataA2 = dataA1[(dataA1.Date < '2022-09-06 14:00:00') | (dataA1.Date > '2022-09-14 13:00:00')]\n",
    "#dataA2 = dataA1.set_index('Date')\n",
    "dataC2 = dataC2.set_index('Date')"
   ]
  },
  {
   "cell_type": "code",
   "execution_count": 14,
   "metadata": {},
   "outputs": [],
   "source": [
    "diffAC = (dataA1['GWL'] - dataC2['GWL'])\n",
    "hydgraAC = diffAC/7956.2 \n",
    "hydgraAC = hydgraAC.reset_index()"
   ]
  },
  {
   "cell_type": "code",
   "execution_count": 15,
   "metadata": {},
   "outputs": [
    {
     "data": {
      "application/vnd.jupyter.widget-view+json": {
       "model_id": "",
       "version_major": 2,
       "version_minor": 0
      },
      "text/plain": [
       "FigureCanvasNbAgg()"
      ]
     },
     "metadata": {},
     "output_type": "display_data"
    },
    {
     "data": {
      "text/plain": [
       "<function matplotlib.pyplot.show(*args, **kw)>"
      ]
     },
     "execution_count": 15,
     "metadata": {},
     "output_type": "execute_result"
    }
   ],
   "source": [
    "plt.figure(figsize=(10,5))\n",
    "plt.plot(hydgraAC.Date[840:], hydgraAC.GWL[840:])\n",
    "plt.title('Hydraulic gradient (a,c)', fontsize = 25)\n",
    "plt.ylabel('Hydraulic gradient', fontsize = 20)\n",
    "plt.xlabel('Time', fontsize = 20)\n",
    "plt.xticks(rotation = 45) \n",
    "plt.show"
   ]
  },
  {
   "cell_type": "code",
   "execution_count": 16,
   "metadata": {},
   "outputs": [],
   "source": [
    "### (a,d) ###\n",
    "dataD1 = dataD.drop_duplicates(subset=['Date'])\n",
    "dataD2 = dataD1[['Date','GWL']]\n",
    "dataD2 = dataD2.set_index('Date')\n",
    "#dataA2 = dataA1.set_index('Date')"
   ]
  },
  {
   "cell_type": "code",
   "execution_count": 17,
   "metadata": {},
   "outputs": [],
   "source": [
    "diffAD = (dataA1['GWL'] - dataD2['GWL'])\n",
    "hydgraAD = diffAD/4638.2 \n",
    "hydgraAD = hydgraAD.reset_index()"
   ]
  },
  {
   "cell_type": "code",
   "execution_count": 18,
   "metadata": {},
   "outputs": [
    {
     "data": {
      "application/vnd.jupyter.widget-view+json": {
       "model_id": "",
       "version_major": 2,
       "version_minor": 0
      },
      "text/plain": [
       "FigureCanvasNbAgg()"
      ]
     },
     "metadata": {},
     "output_type": "display_data"
    },
    {
     "data": {
      "text/plain": [
       "<function matplotlib.pyplot.show(*args, **kw)>"
      ]
     },
     "execution_count": 18,
     "metadata": {},
     "output_type": "execute_result"
    }
   ],
   "source": [
    "plt.figure(figsize=(10,5))\n",
    "plt.plot(hydgraAD.Date, hydgraAD.GWL)\n",
    "plt.title('Hydraulic gradient (a,d)', fontsize = 25)\n",
    "plt.ylabel('Hydraulic gradient', fontsize = 20)\n",
    "plt.xlabel('Time', fontsize = 20)\n",
    "plt.xticks(rotation = 45) \n",
    "plt.show"
   ]
  },
  {
   "cell_type": "code",
   "execution_count": 19,
   "metadata": {},
   "outputs": [],
   "source": [
    "### (b,c) ###\n",
    "diffBC = (dataB1['GWL'] - dataC2['GWL'])\n",
    "hydgraBC = diffBC/3252.8\n",
    "hydgraBC = hydgraBC.reset_index()"
   ]
  },
  {
   "cell_type": "code",
   "execution_count": 20,
   "metadata": {},
   "outputs": [
    {
     "data": {
      "application/vnd.jupyter.widget-view+json": {
       "model_id": "",
       "version_major": 2,
       "version_minor": 0
      },
      "text/plain": [
       "FigureCanvasNbAgg()"
      ]
     },
     "metadata": {},
     "output_type": "display_data"
    },
    {
     "data": {
      "text/plain": [
       "<function matplotlib.pyplot.show(*args, **kw)>"
      ]
     },
     "execution_count": 20,
     "metadata": {},
     "output_type": "execute_result"
    }
   ],
   "source": [
    "plt.figure(figsize=(10,5))\n",
    "plt.plot(hydgraBC.Date[840:], hydgraBC.GWL[840:])\n",
    "plt.title('Hydraulic gradient (b,c)', fontsize = 25)\n",
    "plt.ylabel('Hydraulic gradient', fontsize = 20)\n",
    "plt.xlabel('Time', fontsize = 20)\n",
    "plt.xticks(rotation = 45) \n",
    "plt.show"
   ]
  },
  {
   "cell_type": "code",
   "execution_count": 21,
   "metadata": {},
   "outputs": [],
   "source": [
    "### (b,d) ###\n",
    "diffBD = (dataB1['GWL'] - dataD2['GWL'])\n",
    "hydgraBD = diffBD/3252.8\n",
    "hydgraBD = hydgraBD.reset_index()"
   ]
  },
  {
   "cell_type": "code",
   "execution_count": 22,
   "metadata": {},
   "outputs": [
    {
     "data": {
      "application/vnd.jupyter.widget-view+json": {
       "model_id": "",
       "version_major": 2,
       "version_minor": 0
      },
      "text/plain": [
       "FigureCanvasNbAgg()"
      ]
     },
     "metadata": {},
     "output_type": "display_data"
    },
    {
     "data": {
      "text/plain": [
       "<function matplotlib.pyplot.show(*args, **kw)>"
      ]
     },
     "execution_count": 22,
     "metadata": {},
     "output_type": "execute_result"
    }
   ],
   "source": [
    "plt.figure(figsize=(10,5))\n",
    "plt.plot(hydgraBD.Date, hydgraBD.GWL)\n",
    "plt.title('Hydraulic gradient (b,d)', fontsize = 25)\n",
    "plt.ylabel('Hydraulic gradient', fontsize = 20)\n",
    "plt.xlabel('Time', fontsize = 20)\n",
    "plt.xticks(rotation = 45) \n",
    "plt.show"
   ]
  },
  {
   "cell_type": "code",
   "execution_count": 23,
   "metadata": {},
   "outputs": [],
   "source": [
    "### (c,d) ###\n",
    "diffCD = (dataC2['GWL'] - dataD2['GWL'])\n",
    "hydgraCD = diffCD/3252.8\n",
    "hydgraCD = hydgraCD.reset_index()"
   ]
  },
  {
   "cell_type": "code",
   "execution_count": 25,
   "metadata": {},
   "outputs": [
    {
     "data": {
      "application/vnd.jupyter.widget-view+json": {
       "model_id": "",
       "version_major": 2,
       "version_minor": 0
      },
      "text/plain": [
       "FigureCanvasNbAgg()"
      ]
     },
     "metadata": {},
     "output_type": "display_data"
    },
    {
     "data": {
      "text/plain": [
       "<function matplotlib.pyplot.show(*args, **kw)>"
      ]
     },
     "execution_count": 25,
     "metadata": {},
     "output_type": "execute_result"
    }
   ],
   "source": [
    "plt.figure(figsize=(10,5))\n",
    "plt.plot(hydgraCD.Date[840:], hydgraCD.GWL[840:])\n",
    "plt.title('Hydraulic gradient (c,d)', fontsize = 25)\n",
    "plt.ylabel('Hydraulic gradient', fontsize = 20)\n",
    "plt.xlabel('Time', fontsize = 20)\n",
    "plt.xticks(rotation = 45) \n",
    "plt.show"
   ]
  },
  {
   "cell_type": "code",
   "execution_count": null,
   "metadata": {},
   "outputs": [],
   "source": []
  }
 ],
 "metadata": {
  "kernelspec": {
   "display_name": "Python 3",
   "language": "python",
   "name": "python3"
  },
  "language_info": {
   "codemirror_mode": {
    "name": "ipython",
    "version": 3
   },
   "file_extension": ".py",
   "mimetype": "text/x-python",
   "name": "python",
   "nbconvert_exporter": "python",
   "pygments_lexer": "ipython3",
   "version": "3.7.4"
  }
 },
 "nbformat": 4,
 "nbformat_minor": 5
}
