{
 "cells": [
  {
   "cell_type": "markdown",
   "id": "89e2cb6d",
   "metadata": {},
   "source": [
    "# Read and process groundwater data ILVO Field"
   ]
  },
  {
   "cell_type": "markdown",
   "id": "2526b57d",
   "metadata": {},
   "source": [
    "Load essential Python modules"
   ]
  },
  {
   "cell_type": "code",
   "execution_count": 1,
   "id": "444d6f7f",
   "metadata": {},
   "outputs": [],
   "source": [
    "import pandas as pd\n",
    "import xlrd\n",
    "import os\n",
    "import numpy as np\n",
    "import glob\n",
    "import matplotlib.pyplot as plt\n",
    "#from pandasql import sqldf\n",
    "import datetime\n",
    "import csv\n",
    "import pdb\n",
    "from tqdm.notebook import tqdm\n",
    "from matplotlib.ticker import MultipleLocator\n",
    "from matplotlib.ticker import FuncFormatter\n",
    "def minor_formatter(x, ind):\n",
    "    # only format if we don't overlap with a major tick\n",
    "    if np.mod(x, 1) < .1:\n",
    "        return ''\n",
    "    return '{:.1f}'.format(np.mod(x, 1))\n",
    "def alternate_formatter(x, ind):\n",
    "    rm = np.mod(x, 1)\n",
    "    if np.abs(rm) < .1:\n",
    "        return '{:d}'.format(int(x))\n",
    "    return '{:.1f}'.format(rm)\n",
    "# %matplotlib ipympl\n",
    "\n",
    "#!pip install traces"
   ]
  },
  {
   "cell_type": "markdown",
   "id": "4189d886",
   "metadata": {},
   "source": [
    "### Read Climate Data  (www.dacom.nl)\n",
    " username and pass requested from Tom deSwaf\n"
   ]
  },
  {
   "cell_type": "code",
   "execution_count": 4,
   "id": "2fd82112",
   "metadata": {},
   "outputs": [],
   "source": [
    "### *** READ Carefully *** ####\n",
    "\n",
    "# climate data before 22/3/2022 had different format in dacom so we needed \n",
    "# to change the format and save it as dacom_weather_data_corrected_march-22.csv\n",
    "# for this conversion you can use this code:\n",
    "\n",
    "# df['date'] = pd.to_datetime(df['date'], format='%m/%d/%Y').dt.strftime('%d/%m/%Y')\n",
    "# df['time'] = pd.to_datetime(clim['time']).dt.strftime('%H:%M')\n",
    "# df.to_csv(os.path.join(path1, 'data', 'raw_data','dacom_weather_data_corrected_march-22.csv'),sep=';', index=False)\n",
    "\n",
    "# and then append the new weather data manually (not that the data before june 23 is not available in dacom ???)\n",
    "### -------------------------------------- ####\n",
    "path1 = os.getcwd()\n",
    "path = os.path.join(path1, 'data', 'raw_data')\n",
    "file = os.path.join(path, 'dacom_data.csv')\n",
    "clim=pd.read_csv(file,sep=';')\n",
    "clim['date'] = pd.to_datetime(clim['date'], format = '%d/%m/%Y')\n",
    "clim = clim.dropna(subset=['date'])\n",
    "clim\n",
    "# convert climate data to daily\n",
    "num_cols = clim.columns.drop(['date', 'time'])\n",
    "clim[num_cols] = clim[num_cols].apply(lambda x: pd.to_numeric(x.str.replace(',', '.'), errors='coerce'))\n",
    "clim['date'] = pd.to_datetime(clim['date'])\n",
    "climday = clim.groupby('date').agg({**{col: 'mean' for col in num_cols}, 'precipitation': 'sum'}).reset_index()\n"
   ]
  },
  {
   "cell_type": "code",
   "execution_count": null,
   "id": "03ba1568",
   "metadata": {},
   "outputs": [],
   "source": []
  },
  {
   "cell_type": "markdown",
   "id": "2716e564",
   "metadata": {},
   "source": [
    "### Read data"
   ]
  },
  {
   "cell_type": "code",
   "execution_count": 3,
   "id": "cb5e8716",
   "metadata": {
    "scrolled": false
   },
   "outputs": [
    {
     "data": {
      "application/vnd.jupyter.widget-view+json": {
       "model_id": "22e37cf5fe074f5bbaa49898148c34ca",
       "version_major": 2,
       "version_minor": 0
      },
      "text/plain": [
       "  0%|          | 0/81 [00:00<?, ?it/s]"
      ]
     },
     "metadata": {},
     "output_type": "display_data"
    }
   ],
   "source": [
    "datapath =  os.path.join(path1, 'data')\n",
    "baro_ind='AP825'\n",
    "xls_files = glob.glob(datapath + \"\\*.xlsx\") \n",
    "#barometer felt down in pipe on   '2022-05-25 07:25:00'  \n",
    "#loop over the list of xls files\n",
    "ind = 0\n",
    "diver_names={}\n",
    "alldf={}\n",
    "for i,f in tqdm(enumerate(xls_files),total=len(xls_files)):\n",
    "    # read the csv file\n",
    "    df = pd.read_excel(f)\n",
    "    #print(df)\n",
    "    # remove double copied parts of the logged data from the raw data files\n",
    "    df=df.drop_duplicates()  \n",
    "    df=df.assign(Date=df.TimeStamp.dt.round('H'))\n",
    "    \n",
    "    df['Date']=pd.to_datetime(df['Date'],dayfirst=True)\n",
    "    df=df.loc[(df['TimeStamp'] > '2022-08-02 12:00:00')]\n",
    "    dfdaily=df.resample('D', on = 'Date').mean()\n",
    "\n",
    "    # merge all data in 1 dataframe\n",
    "    if baro_ind in f:\n",
    "        baro_data=df\n",
    "        baro_data=baro_data.loc[(baro_data['TimeStamp'] > '2022-08-02 12:00:00')]\n",
    "        #baro_data=baro_data.append.df# this tests for substrings\n",
    "    if ind == 0:\n",
    "        #First data frame loaded\n",
    "        GWdata = df\n",
    "        GWdata = GWdata.drop_duplicates()\n",
    "        GWdata_daily = dfdaily\n",
    "    else:\n",
    "        # Paste the rest to this dataframe\n",
    "        GWdata = pd.concat([GWdata,df],axis=0).reset_index(drop=True)\n",
    "        GWdata_daily = pd.concat([GWdata_daily,df],axis=0).reset_index(drop=True)\n",
    "        alldf[i]=df\n",
    "        alldf[i]=alldf[i].loc[(alldf[i]['TimeStamp'] > '2022-08-02 12:00:00')]\n",
    "        GWdata = GWdata.drop_duplicates()\n",
    "        GWdata\n",
    "    ind = ind + 1 \n"
   ]
  },
  {
   "cell_type": "code",
   "execution_count": 5,
   "id": "a48f03de",
   "metadata": {},
   "outputs": [
    {
     "data": {
      "text/plain": [
       "<matplotlib.legend.Legend at 0x1fef5ccac70>"
      ]
     },
     "execution_count": 5,
     "metadata": {},
     "output_type": "execute_result"
    },
    {
     "data": {
      "image/png": "[encoded data removed]",
      "text/plain": [
       "<Figure size 432x288 with 1 Axes>"
      ]
     },
     "metadata": {
      "needs_background": "light"
     },
     "output_type": "display_data"
    }
   ],
   "source": [
    "# initial test to see if imported data are ok in time\n",
    "names=['AP689','AG083','AP707','CA186','AZ649','ED973']\n",
    "for i in names:\n",
    "    plt.plot(GWdata.loc[GWdata[\"SerialNumber\"]==i].Date,\n",
    "        GWdata.loc[GWdata[\"SerialNumber\"]==i].Pressure,'.', label=i)\n",
    "plt.legend()"
   ]
  },
  {
   "cell_type": "code",
   "execution_count": null,
   "id": "8e9a6f45",
   "metadata": {},
   "outputs": [],
   "source": [
    "# i='AG083'\n",
    "# GWdata.loc[GWdata[\"SerialNumber\"]==i].sort_values(by=['Date'])\n",
    "# ddd=GWdata.loc[GWdata[\"SerialNumber\"]==i].reset_index()\n",
    "# #print(ddd)\n",
    "# dataall=baro_data.merge(ddd[['TimeStamp','Pressure']], on='TimeStamp')\n",
    "# dataall = dataall.drop_duplicates()\n",
    "# #dataall.SerialNumber='AG083'\n",
    "# #dataall[dataall['Pressure_y'].notna()]\n",
    "# #dataall = dataall[dataall['Pressure_x']<dataall['Pressure_y']]\n",
    "# #dataall[\"WL\"]=(dataall['Pressure_y']-dataall['Pressure_x'])\n",
    "# #dataall=dataall.reset_index()\n",
    "# # dataall\n",
    "# # GWdata.loc[GWdata[\"SerialNumber\"]=='AG083'].sort_values(by=['Date']).reset_index()\n",
    "# # baro_data"
   ]
  },
  {
   "cell_type": "code",
   "execution_count": 6,
   "id": "f70c4ec7",
   "metadata": {
    "scrolled": false
   },
   "outputs": [],
   "source": [
    "# Read manually measured water dephts for inspection of the data    \n",
    "# path_obs=os.path.join(path1, 'data','raw_data')\n",
    "file_obs = os.path.join(path_obs, 'manual_check_water_depth.xlsx')\n",
    "df_info = pd.read_excel(file_obs)\n",
    "df_info['Time']=pd.to_datetime(df_info['Time'],dayfirst=True)\n",
    "(df_info.Time)\n",
    "df_info2=df_info[df_info.Time.notnull()]\n",
    "df_info2=df_info2.reset_index(drop=True)\n",
    "df_info2.iloc[:,3] = (-100*df_info2.iloc[:,3]) \n",
    "df_info2.iloc[:,4] =-100*df_info2.iloc[:,4] \n",
    "groups = df_info2.groupby('SerialNumber')\n",
    "colors = {'AG083':'#ff7f0e','AP707': '#8c564b','CA186': '#d62728','AZ649': '#2ca02c', 'CA969':'#9467bd', 'ED973':'#9467bd'}\n"
   ]
  },
  {
   "cell_type": "markdown",
   "id": "031649c4",
   "metadata": {},
   "source": [
    "## Processing steps"
   ]
  },
  {
   "cell_type": "markdown",
   "id": "e43719a6",
   "metadata": {},
   "source": [
    "Dataset Processing explanation\t\t\t\t\t\t\n",
    "1. Collect total pressure (TP) from divers\t\t (cmH2O)\t\t\t\t\n",
    "2. Calculate water pressure (WP) = TP - AP\t\t (cmH2O)\t\t\n",
    "3. Calculate hydraulic gradient. Take the timestep \"t\" at which a manual measurement is realized and calculate the hydraulic head\t\t\t\t\t\t\n",
    "     - H(t) = TW-WD(t)\t\t\t\t\t\t\n",
    "     - H (t+1) = H(t)  + (WP (t+1) - WP (t))/100\t\t\t\t\t\t\n",
    "\t\t\t\t\t\t\t\t\t\t\t\t\t\t\t\t\t\n",
    "With :\t\t\t\t\t\t\t\t\t\t\t\n",
    "AP= Air Pressure (cmH20)\t\t\t\t\t\t\t\t\t\t\t\n",
    "H=Hydraulic Head (mTAW)\t\t\t\t\t\t\n",
    "TW=Top well Elevation (mTAW)\t\t\t\t\t\t\n",
    "WD=Water depth from the top well (m)\t\t\t\t\t\t\t\t\t\t\t\t\n",
    "\t\t\t\t\t\t\n",
    "| well   name | well   name | soil elevation(mTAW) | well height above the ground (m) | Top well (mTAW) | rope length (m)|\n",
    "|:-----------:|:-----------:|:--------------------:|:--------------------------------:|:---------------:|:------------|\n",
    "|  AG083  |   a   |         21,30        |                 0.56                |      21,86      |    |\n",
    "|   AP707   |   b   |        20,5        |               0.43               |      20.93      |      |\n",
    "|   CA186  |   c   |       19,7         |               0.63               |        20.33    |        |\n",
    "|   AZ649   |   d   |         20,9        |              0.68                |      21.58      |      |\n",
    "|   CA969/ED973  |  e  |         22,3        |                0.7               |      23.0     |       |\n",
    "|   AP689   |     |                 |                            |            |           |\n",
    "\n",
    "***---------------------------------------------------------------------------------------------------***\n",
    "#### To Do:  the new CT divers should be replaced too"
   ]
  },
  {
   "cell_type": "code",
   "execution_count": null,
   "id": "175124df",
   "metadata": {},
   "outputs": [],
   "source": [
    "# path1 = os.getcwd()\n",
    "# path = os.path.join(path1, 'data')\n",
    "# file = os.path.join(path, 'PiezoD22mar_adapted.csv')\n",
    "# PiezoD=pd.read_csv(file,sep=';',dayfirst=True)\n",
    "\n",
    "# print(PiezoD)\n",
    "# print(PiezoD['GWL'])"
   ]
  },
  {
   "cell_type": "code",
   "execution_count": null,
   "id": "e82e5dee",
   "metadata": {},
   "outputs": [],
   "source": [
    "from pandas.plotting import register_matplotlib_converters\n",
    "register_matplotlib_converters()\n"
   ]
  },
  {
   "cell_type": "code",
   "execution_count": 8,
   "id": "72dc935b",
   "metadata": {
    "scrolled": false
   },
   "outputs": [
    {
     "name": "stdout",
     "output_type": "stream",
     "text": [
      "      index MonitoringPoint SerialNumber           TimeStamp  Pressure_x  \\\n",
      "0         1            ILVO        AG083 2022-08-02 17:00:00    1035.825   \n",
      "1         3            ILVO        AG083 2022-08-02 18:00:00    1035.075   \n",
      "2         4            ILVO        AG083 2022-08-02 19:00:00    1035.075   \n",
      "3         5            ILVO        AG083 2022-08-02 20:00:00    1035.200   \n",
      "4         6            ILVO        AG083 2022-08-02 21:00:00    1035.425   \n",
      "...     ...             ...          ...                 ...         ...   \n",
      "5519   5524            ILVO        AG083 2023-03-22 09:00:00    1028.375   \n",
      "5520   5525            ILVO        AG083 2023-03-22 10:00:00    1028.050   \n",
      "5521   5526            ILVO        AG083 2023-03-22 11:00:00    1027.875   \n",
      "5522   5527            ILVO        AG083 2023-03-22 12:00:00    1027.425   \n",
      "5523   5528            ILVO        AG083 2023-03-22 13:00:00    1027.550   \n",
      "\n",
      "      Temperature  Conductivity  WaterLevel  WaterLevelReference  \\\n",
      "0       33.663333           NaN         NaN                  NaN   \n",
      "1       31.786667           NaN         NaN                  NaN   \n",
      "2       30.036667           NaN         NaN                  NaN   \n",
      "3       26.250000           NaN         NaN                  NaN   \n",
      "4       21.740000           NaN         NaN                  NaN   \n",
      "...           ...           ...         ...                  ...   \n",
      "5519    10.616667           NaN         NaN                  NaN   \n",
      "5520    11.373333           NaN         NaN                  NaN   \n",
      "5521    10.896667           NaN         NaN                  NaN   \n",
      "5522    12.223333           NaN         NaN                  NaN   \n",
      "5523    12.250000           NaN         NaN                  NaN   \n",
      "\n",
      "                    Date   Pressure_y          WL          GWL  \n",
      "0    2022-08-02 17:00:00  1172.933333  137.108333  1985.108333  \n",
      "1    2022-08-02 18:00:00  1171.375000  136.300000  1984.300000  \n",
      "2    2022-08-02 19:00:00  1170.366667  135.291667  1983.291667  \n",
      "3    2022-08-02 20:00:00  1170.000000  134.800000  1982.800000  \n",
      "4    2022-08-02 21:00:00  1169.633333  134.208333  1982.208333  \n",
      "...                  ...          ...         ...          ...  \n",
      "5519 2023-03-22 09:00:00  1245.441667  217.066667  2065.066667  \n",
      "5520 2023-03-22 10:00:00  1244.525000  216.475000  2064.475000  \n",
      "5521 2023-03-22 11:00:00  1244.800000  216.925000  2064.925000  \n",
      "5522 2023-03-22 12:00:00  1244.433333  217.008333  2065.008333  \n",
      "5523 2023-03-22 13:00:00  1244.250000  216.700000  2064.700000  \n",
      "\n",
      "[5524 rows x 13 columns]\n"
     ]
    },
    {
     "ename": "KeyError",
     "evalue": "'AZ648'",
     "output_type": "error",
     "traceback": [
      "\u001b[1;31m---------------------------------------------------------------------------\u001b[0m",
      "\u001b[1;31mKeyError\u001b[0m                                  Traceback (most recent call last)",
      "Input \u001b[1;32mIn [8]\u001b[0m, in \u001b[0;36m<cell line: 26>\u001b[1;34m()\u001b[0m\n\u001b[0;32m     61\u001b[0m     ax\u001b[38;5;241m.\u001b[39mplot(dataall\u001b[38;5;241m.\u001b[39mTimeStamp[\u001b[38;5;241m840\u001b[39m:],(dataall[\u001b[38;5;124m\"\u001b[39m\u001b[38;5;124mGWL\u001b[39m\u001b[38;5;124m\"\u001b[39m][\u001b[38;5;241m840\u001b[39m:]\u001b[38;5;241m/\u001b[39m\u001b[38;5;241m100\u001b[39m),colors[i])\n\u001b[0;32m     62\u001b[0m \u001b[38;5;28;01melse\u001b[39;00m:\n\u001b[1;32m---> 63\u001b[0m     ax\u001b[38;5;241m.\u001b[39mplot(dataall\u001b[38;5;241m.\u001b[39mTimeStamp,(dataall[\u001b[38;5;124m\"\u001b[39m\u001b[38;5;124mGWL\u001b[39m\u001b[38;5;124m\"\u001b[39m]\u001b[38;5;241m/\u001b[39m\u001b[38;5;241m100\u001b[39m),\u001b[43mcolors\u001b[49m\u001b[43m[\u001b[49m\u001b[43mi\u001b[49m\u001b[43m]\u001b[49m)\n\u001b[0;32m     64\u001b[0m ax\u001b[38;5;241m.\u001b[39mset_ylim([\u001b[38;5;241m18\u001b[39m,\u001b[38;5;241m22\u001b[39m])\n\u001b[0;32m     65\u001b[0m alldata[i]\u001b[38;5;241m=\u001b[39mdataall\n",
      "\u001b[1;31mKeyError\u001b[0m: 'AZ648'"
     ]
    },
    {
     "data": {
      "image/png": "[encoded data removed]",
      "text/plain": [
       "<Figure size 720x360 with 2 Axes>"
      ]
     },
     "metadata": {
      "needs_background": "light"
     },
     "output_type": "display_data"
    }
   ],
   "source": [
    "wellinfo = { 'SerialNumber' : ['AG083','AP707','CA186','AZ649','CA969','ED973'], \n",
    "            'WellName' : {'a','b','c','d','e','e1'},\n",
    "            'lgnds' : ['a','b','c','d','e'],\n",
    "            'soil_mTAW' : [21.42,20.57,19.86,21.20,22.15,22.15],\n",
    "            'well_height' : [0.56,0.43,0.63,0.68,0.70,0.28],\n",
    "            'top_well_cm' :[2198,2100,2049,2188,2285,2243],\n",
    "            'RL' : [350,332,341,370,377,345],\n",
    "            'L1':[294,289,278,302,307,317],\n",
    "            'initials' : [158,165,147,225,0,0],\n",
    "            'measure_time':['2022-08-02 17:30:00','2022-08-02 17:00:00',\n",
    "                        '2022-08-02 15:00:00','2022-08-02 11:00:00',\n",
    "                        '2022-08-02 13:00:00','2023-12-09 10:00:00'],\n",
    "           'long':[108855,108899,108929,108884,108814,108814],\n",
    "           'lat':[185311,185293,185281,185274,185203,185203]}\n",
    "alldata={}\n",
    "dov={}\n",
    "date1=datetime.date(2022,8,1)\n",
    "date2=datetime.date(2023,8,1)\n",
    "ftsz=16\n",
    "\n",
    "fig, ax= plt.subplots(figsize=(10,5))\n",
    "axb=ax.twinx()\n",
    "\n",
    "\n",
    "\n",
    "for f,i in enumerate(wellinfo['SerialNumber']):\n",
    "    ddd=GWdata.loc[GWdata[\"SerialNumber\"]==i].reset_index()\n",
    "    dataall=baro_data.merge(ddd[['TimeStamp','Pressure']], on='TimeStamp')\n",
    "    dataall.SerialNumber=i\n",
    "    dataall[dataall['Pressure_y'].notna()]\n",
    "    dataall = dataall[dataall['Pressure_x']<dataall['Pressure_y']]\n",
    "    dataall[\"WL\"]=(dataall['Pressure_y']-dataall['Pressure_x'])\n",
    "    dataall=dataall.reset_index()\n",
    "    if wellinfo['SerialNumber'][f]=='AZ649':\n",
    "        # calculate GWL manually in Excel\n",
    "        dataall[\"GWL\"]=PiezoD[\"GWL\"]\n",
    "        dataall.to_excel('saved_file.xlsx')\n",
    "    else:\n",
    "        dataall[\"GWL\"]=-wellinfo['RL'][f]+wellinfo['top_well_cm'][f]+dataall[\"WL\"]\n",
    "    if wellinfo['SerialNumber'][f]=='AG083':\n",
    "        dataA = dataall\n",
    "        dataall.to_excel('saved_file_headA.xlsx')\n",
    "        print(dataA)\n",
    "    if wellinfo['SerialNumber'][f]=='AP707':\n",
    "        dataB = dataall\n",
    "        dataall.to_excel('saved_file_headB.xlsx')\n",
    "    if wellinfo['SerialNumber'][f]=='CA186':\n",
    "        dataC = dataall\n",
    "        dataall.to_excel('saved_file_headC.xlsx')\n",
    "    if wellinfo['SerialNumber'][f]=='AZ649':\n",
    "        dataD = dataall\n",
    "        dataall.to_excel('saved_file_headD.xlsx')\n",
    "        print(dataD)\n",
    "    if wellinfo['SerialNumber'][f]=='CA969':\n",
    "        dataE1 = dataall\n",
    "        dataall.to_excel('saved_file_headE1.xlsx')\n",
    "    if wellinfo['SerialNumber'][f]=='ED973':\n",
    "        dataE2 = dataall\n",
    "        dataall.to_excel('saved_file_headE2.xlsx')\n",
    "    if wellinfo['SerialNumber'][f]=='CA186':\n",
    "        ax.plot(dataall.TimeStamp[840:],(dataall[\"GWL\"][840:]/100),colors[i])\n",
    "    else:\n",
    "        ax.plot(dataall.TimeStamp,(dataall[\"GWL\"]/100),colors[i])\n",
    "    ax.set_ylim([18,22])\n",
    "    alldata[i]=dataall\n",
    "\n",
    "ax.scatter(df_info2.Time, df_info2.iloc[:,5], 75,c=df_info2['SerialNumber'].map(colors),alpha=.2, marker='o')\n",
    "ax.vlines(x='2022-12-22', ymin=18, ymax=22)\n",
    "ax.legend(wellinfo['lgnds'],loc='upper left', fontsize=ftsz)\n",
    "ax.set_ylabel('GWL[mTAW]', fontsize= ftsz)\n",
    "ax.tick_params(axis='x', which='both', labelsize=ftsz-2,rotation=60)\n",
    "ax.tick_params(axis='y', which='both', labelsize=ftsz)\n",
    "#ax.hlines(y=21.3, xmin = date1, xmax = date2, color='#ff7f0e', linestyle = '--')\n",
    "#ax.hlines(y=20.5, xmin = date1, xmax = date2,color='#8c564b', linestyle = '--')\n",
    "#ax.hlines(y=19.7, xmin = date1, xmax = date2,color='#d62728', linestyle = '--')\n",
    "#ax.hlines(y=20.9, xmin = date1, xmax = date2,color='#2ca02c', linestyle = '--')\n",
    "#ax.hlines(y=22.3, xmin = date1, xmax = date2,color='#9467bd', linestyle = '--')\n",
    "\n",
    "\n",
    "axb.bar(climday['date'],climday.precipitation_sum)\n",
    "axb.set_ylim([0, 30])\n",
    "axb.invert_yaxis()\n",
    "axb.set_ylabel('Precipitation [mm]', fontsize= ftsz)\n",
    "axb.tick_params(axis='x', which='both', labelsize=ftsz)\n",
    "axb.tick_params(axis='y', which='both', labelsize=ftsz)\n",
    "\n",
    "axb.set_xlim([date1,date2])\n",
    "fig.show()\n"
   ]
  },
  {
   "cell_type": "code",
   "execution_count": null,
   "id": "31fe81d4",
   "metadata": {},
   "outputs": [],
   "source": [
    "frames = [dataE1, dataE2]\n",
    "dataE = pd.concat(frames)\n",
    "dataE.to_excel('saved_file_headE.xlsx')"
   ]
  },
  {
   "cell_type": "code",
   "execution_count": null,
   "id": "d2305628",
   "metadata": {},
   "outputs": [],
   "source": [
    "fig.savefig('GWL.png')"
   ]
  },
  {
   "cell_type": "code",
   "execution_count": null,
   "id": "74b1876c",
   "metadata": {},
   "outputs": [],
   "source": [
    "## Below surface depth"
   ]
  },
  {
   "cell_type": "code",
   "execution_count": null,
   "id": "1468ebec",
   "metadata": {},
   "outputs": [],
   "source": [
    "wellinfo = { 'SerialNumber' : ['AG083','AP707','CA186','AZ649','CA969','ED973'], \n",
    "            'WellName' : {'a','b','c','d','e','e1'},\n",
    "            'lgnds' : ['a','b','c','d','e'],\n",
    "            'soil_mTAW' : [21.42,20.57,19.86,21.20,22.15,22.15],\n",
    "            'well_height_m' : [0.56,0.43,0.63,0.68,0.70,0.28],\n",
    "            'top_well_cm' :[2198,2100,2049,2188,2285,2243],\n",
    "            'RL' : [350,332,341,370,377,345],\n",
    "            'L1':[294,289,278,302,307,317],\n",
    "            'initials' : [158,165,147,225,0,0],\n",
    "            'measure_time':['2022-08-02 17:30:00','2022-08-02 17:00:00',\n",
    "                        '2022-08-02 15:00:00','2022-08-02 11:00:00',\n",
    "                        '2022-08-02 13:00:00','2023-12-09 10:00:00'],\n",
    "           'long':[108855,108899,108929,108884,108814,108814],\n",
    "           'lat':[185311,185293,185281,185274,185203,185203]}\n",
    "alldata1={}\n",
    "date1=datetime.date(2022,8,1)\n",
    "date2=datetime.date(2023,3,23)\n",
    "ftsz=16\n",
    "\n",
    "fig, ax= plt.subplots(figsize=(10,5))\n",
    "axb=ax.twinx()\n",
    "\n",
    "for f,i in enumerate(wellinfo['SerialNumber']):\n",
    "    ddd1=GWdata.loc[GWdata[\"SerialNumber\"]==i].reset_index()\n",
    "    dataall1=baro_data.merge(ddd1[['TimeStamp','Pressure']], on='TimeStamp')\n",
    "    dataall1.SerialNumber=i\n",
    "    dataall1[dataall1['Pressure_y'].notna()]\n",
    "    dataall1 = dataall1[dataall1['Pressure_x']<dataall1['Pressure_y']]\n",
    "    dataall1[\"WL\"]=(dataall1['Pressure_y']-dataall1['Pressure_x'])\n",
    "    dataall1=dataall1.reset_index()\n",
    "    if wellinfo['SerialNumber'][f]=='AZ649':\n",
    "        dataall1[\"GWL\"]=PiezoD[\"BSS\"]\n",
    "    else:\n",
    "        dataall1[\"GWL\"]=wellinfo['RL'][f]-wellinfo['well_height_m'][f]-dataall1[\"WL\"]\n",
    "    if wellinfo['SerialNumber'][f]=='CA186':\n",
    "        ax.plot(dataall1.TimeStamp[840:],-( dataall1[\"GWL\"][840:]/100),colors[i])\n",
    "    else:\n",
    "        ax.plot(dataall1.TimeStamp,-( dataall1[\"GWL\"]/100),colors[i])\n",
    "    ax.set_ylim([-4,0])\n",
    "    alldata1[i]=dataall1\n",
    "    \n",
    "\n",
    "#ax.scatter(df_info2.Time, df_info2.iloc[:,4]/100, 75,c=df_info2['SerialNumber'].map(colors),alpha=.2, marker='o')\n",
    "ax.legend(wellinfo['lgnds'],loc='upper left', fontsize=ftsz)\n",
    "ax.set_ylabel('GWL[b.s.s, m]', fontsize= ftsz)\n",
    "ax.tick_params(axis='x', which='both', labelsize=ftsz-2,rotation=60)\n",
    "ax.tick_params(axis='y', which='both', labelsize=ftsz)\n",
    "\n",
    "\n",
    "\n",
    "axb.bar(climday['date'],climday.precipitation_sum)\n",
    "axb.set_ylim([0, 30])\n",
    "axb.invert_yaxis()\n",
    "axb.set_ylabel('Precipitation [mm]', fontsize= ftsz)\n",
    "axb.tick_params(axis='x', which='both', labelsize=ftsz)\n",
    "axb.tick_params(axis='y', which='both', labelsize=ftsz)\n",
    "\n",
    "axb.set_xlim([date1,date2])\n",
    "fig.savefig('GWL_bss.png')\n"
   ]
  },
  {
   "cell_type": "markdown",
   "id": "7a719f28",
   "metadata": {},
   "source": [
    "# calculate Gradients [H2-H1/(Distance)], \n",
    "# H mtaw between each pair of piezometer like (a,b), (b,c), (c,d),(b,d),(a,d)\n",
    "| distance matrix | a | b | c | d | e |\n",
    "|:-----------:|:-----------:|:--------------------:|:--------------------------------:|:---------------:|:------------|\n",
    "|  a  |   -  |         47,621        |                 79,562                |      46,382      |  115,062  |\n",
    "|   b   |   47,621   |         -       |              32,528               |      24,529      |  123,775    |\n",
    "|   c  |   79,562   |       32,528         |            -                  |        45,460    |     138,869   |\n",
    "|   d   |   46,382   |         24,529        |              45,460                |      -      |   99,504   |\n",
    "|   e  |  115,062  |         123,775        |                138,869               |      99,504     |   -    |"
   ]
  },
  {
   "cell_type": "code",
   "execution_count": null,
   "id": "beb85e80",
   "metadata": {},
   "outputs": [],
   "source": [
    "### (a,b) ###\n",
    "dataA1 = dataA.drop_duplicates(subset=['Date'])\n",
    "dataB1 = dataB.drop_duplicates(subset=['Date'])\n",
    "dataA1 = dataA1[['Date','GWL']]\n",
    "dataB1 = dataB1[[\"Date\", 'GWL']]\n",
    "#dataB2 = dataB1.drop(dataB1.loc[dataB1['Date'] == '2022-11-04 11:00:00'].index)\n",
    "dataA1 = dataA1.set_index('Date')\n",
    "dataB1 = dataB1.set_index('Date')\n",
    "diffAB = (dataA1['GWL'] - dataB1['GWL'])\n",
    "hydgraAB = diffAB/4762.1 \n",
    "hydgraAB = hydgraAB.reset_index()\n",
    "### (a,c) ###\n",
    "dataC1 = dataC.drop_duplicates(subset=['Date'])\n",
    "dataC2 = dataC1[['Date','GWL']]\n",
    "#dataC2 = dataC2.drop(dataC2.loc[dataC['Date'] == '2022-08-02 15:00:00'].index)\n",
    "#dataC2 = dataC2.drop(dataC2.loc[dataC['Date'] == '2022-08-02 16:00:00'].index)\n",
    "#dataA1 = dataA1.reset_index()\n",
    "#dataA2 = dataA1[(dataA1.Date < '2022-09-06 14:00:00') | (dataA1.Date > '2022-09-14 13:00:00')]\n",
    "#dataA2 = dataA1.set_index('Date')\n",
    "dataC2 = dataC2.set_index('Date')\n",
    "diffAC = (dataA1['GWL'] - dataC2['GWL'])\n",
    "hydgraAC = diffAC/7956.2 \n",
    "hydgraAC = hydgraAC.reset_index()\n",
    "### (a,d) ###\n",
    "dataD1 = dataD.drop_duplicates(subset=['Date'])\n",
    "dataD2 = dataD1[['Date','GWL']]\n",
    "dataD2 = dataD2.set_index('Date')\n",
    "#dataA2 = dataA1.set_index('Date')\n",
    "diffAD = (dataA1['GWL'] - dataD2['GWL'])\n",
    "hydgraAD = diffAD/4638.2 \n",
    "hydgraAD = hydgraAD.reset_index()\n",
    "### (b,c) ###\n",
    "diffBC = (dataB1['GWL'] - dataC2['GWL'])\n",
    "hydgraBC = diffBC/3252.8\n",
    "hydgraBC = hydgraBC.reset_index()\n",
    "### (b,d) ###\n",
    "diffBD = (dataB1['GWL'] - dataD2['GWL'])\n",
    "hydgraBD = diffBD/3252.8\n",
    "hydgraBD = hydgraBD.reset_index()\n",
    "### (c,d) ###\n",
    "diffCD = (dataC2['GWL'] - dataD2['GWL'])\n",
    "hydgraCD = diffCD/3252.8\n",
    "hydgraCD = hydgraCD.reset_index()\n",
    "### (a,e) ###\n",
    "dataE_1 = dataE.drop_duplicates(subset=['Date'])\n",
    "dataE_1 = dataE_1[['Date','GWL']]\n",
    "dataE_1 = dataE_1.set_index('Date')\n",
    "diffAE = (dataA1['GWL'] - dataE_1['GWL'])\n",
    "hydgraAE = diffAE/11506.2\n",
    "hydgraAE = hydgraAE.reset_index()\n",
    "### (b,e) ###\n",
    "diffBE = (dataB1['GWL'] - dataE_1['GWL'])\n",
    "hydgraBE = diffBE/12377.5\n",
    "hydgraBE = hydgraBE.reset_index()\n",
    "### (c,e) ###\n",
    "diffCE = (dataC2['GWL'] - dataE_1['GWL'])\n",
    "hydgraCE = diffCE/13886.9\n",
    "hydgraCE = hydgraCE.reset_index()\n",
    "### (d,e) ###\n",
    "diffDE = (dataD2['GWL'] - dataE_1['GWL'])\n",
    "hydgraDE = diffDE/9950.4\n",
    "hydgraDE = hydgraDE.reset_index()"
   ]
  },
  {
   "cell_type": "code",
   "execution_count": null,
   "id": "8cadde0a",
   "metadata": {},
   "outputs": [],
   "source": [
    "plt.figure(figsize=(10,5))\n",
    "plt.plot(hydgraAB['Date'], hydgraAB['GWL'], label='AB')\n",
    "plt.plot(hydgraAC.Date[840:], hydgraAC.GWL[840:], label='AC')\n",
    "plt.plot(hydgraAD.Date, hydgraAD.GWL, label='AD')\n",
    "plt.plot(hydgraAE['Date'], hydgraAE['GWL'], label='AE')\n",
    "plt.plot(hydgraBC.Date[840:], hydgraBC.GWL[840:], label='BC')\n",
    "plt.plot(hydgraBD.Date, hydgraBD.GWL, label='BD')\n",
    "plt.plot(hydgraBE['Date'], hydgraBE['GWL'], label='BE')\n",
    "plt.plot(hydgraCD.Date[840:], hydgraCD.GWL[840:], label='CD')\n",
    "plt.plot(hydgraCE.Date[840:], hydgraCE.GWL[840:], label='CE')\n",
    "plt.plot(hydgraDE['Date'], hydgraDE['GWL'], label='DE')\n",
    "plt.axhline(y = 0, color = 'k', linestyle = '--')\n",
    "plt.legend(fontsize = 10, bbox_to_anchor = (1.11, 0.5), loc='center right')\n",
    "plt.ylabel('Hydraulic gradient', fontsize = 12)\n",
    "plt.xlabel('Time', fontsize = 10)\n",
    "plt.xticks(rotation = 45) \n",
    "plt.show\n",
    "plt.savefig('HydraulicGradients.png')"
   ]
  },
  {
   "cell_type": "markdown",
   "id": "6e991e42",
   "metadata": {},
   "source": [
    "## TIME SERIES ANALYSIS ##"
   ]
  },
  {
   "cell_type": "code",
   "execution_count": null,
   "id": "8544e5ba",
   "metadata": {
    "scrolled": false
   },
   "outputs": [],
   "source": [
    "# Import packages\n",
    "import pandas as pd\n",
    "import pastas as ps\n",
    "# Read time series\n",
    "path1 = os.getcwd()\n",
    "path = os.path.join(path1, 'data', 'TimeSeries')\n",
    "file_obs = os.path.join(path, 'GWL_A.csv')\n",
    "obs = pd.read_csv(file_obs, sep=';', parse_dates=True).squeeze()\n",
    "obs['Date'] = pd.to_datetime(obs['Date'], format = '%d/%m/%Y')\n",
    "obs_daily = obs.resample('D', on='Date').mean()\n",
    "#obs_daily = obs_daily.squeeze()\n",
    "print(\"The data type of the oseries is: %s\" % type(obs_daily))\n",
    "file_rain = os.path.join(path, 'Precipitation.csv')\n",
    "rain = pd.read_csv(file_rain, sep=';', parse_dates=True).squeeze()\n",
    "rain['Date'] = pd.to_datetime(rain['Date'], format = '%d/%m/%Y')\n",
    "rain_daily = rain.resample('D', on='Date').sum()\n",
    "#rain_daily = rain_daily.squeeze()\n",
    "print(obs_daily)\n",
    "print(rain_daily)\n",
    "obs_daily.plot(style=\".\", figsize=(10, 4))\n",
    "rain_daily.plot.bar(figsize=(10, 4))"
   ]
  },
  {
   "cell_type": "code",
   "execution_count": null,
   "id": "79a9771d",
   "metadata": {
    "scrolled": false
   },
   "outputs": [],
   "source": [
    "# Create model\n",
    "ml = ps.Model(obs_daily, name='PiezometerA')\n",
    "# Add stress models\n",
    "rm = ps.StressModel(rain_daily,rfunc=ps.Gamma, name='recharge', settings=\"evap\")\n",
    "ml.add_stressmodel(rm)\n",
    "# Solve the model\n",
    "ml.solve()\n",
    "ml.plot()\n",
    "ml.plots.results(figsize=(10, 6))\n"
   ]
  },
  {
   "cell_type": "code",
   "execution_count": null,
   "id": "9575300a",
   "metadata": {},
   "outputs": [],
   "source": []
  }
 ],
 "metadata": {
  "kernelspec": {
   "display_name": "Python 3 (ipykernel)",
   "language": "python",
   "name": "python3"
  },
  "language_info": {
   "codemirror_mode": {
    "name": "ipython",
    "version": 3
   },
   "file_extension": ".py",
   "mimetype": "text/x-python",
   "name": "python",
   "nbconvert_exporter": "python",
   "pygments_lexer": "ipython3",
   "version": "3.9.12"
  }
 },
 "nbformat": 4,
 "nbformat_minor": 5
}
